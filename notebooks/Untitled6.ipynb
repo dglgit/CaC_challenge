{
  "nbformat": 4,
  "nbformat_minor": 0,
  "metadata": {
    "colab": {
      "name": "Untitled6.ipynb",
      "provenance": []
    },
    "kernelspec": {
      "name": "python3",
      "display_name": "Python 3"
    }
  },
  "cells": [
    {
      "cell_type": "code",
      "metadata": {
        "id": "1TQ3sQWDuY5g"
      },
      "source": [
        "import torch.nn as nn"
      ],
      "execution_count": null,
      "outputs": []
    },
    {
      "cell_type": "code",
      "metadata": {
        "id": "5y2gXNEvF72d",
        "outputId": "2671fad7-e264-42ae-ae1f-a04188fa7077",
        "colab": {
          "base_uri": "https://localhost:8080/",
          "height": 104
        }
      },
      "source": [
        "import pandas as pd\n",
        "import torch\n",
        "import numpy as np\n",
        "import string\n",
        "newsdf=pd.read_csv('/content/corona_fake.csv')\n",
        "titles=newsdf['title']\n",
        "text=newsdf['text']\n",
        "labels=newsdf['label']\n",
        "letters=string.ascii_letters+' '\n",
        "def enum1(x):\n",
        "    for i in range(len(x)):\n",
        "        yield (i+1,x[i])\n",
        "vocab={letter:i for i,letter in enum1(letters)}\n",
        "def word2tensor(word):\n",
        "  tens=[vocab[i] for i in word if i in letters]\n",
        "  return torch.tensor(tens)\n",
        "def stack(data):\n",
        "  result=[]\n",
        "  for i in range(len(data)):\n",
        "    try:\n",
        "      result.append(word2tensor(data[i]))\n",
        "    except:\n",
        "      result.append(torch.zeros(1))\n",
        "  return result\n",
        "tensortext=stack(text)\n",
        "tensorlabel=[]\n",
        "for label in labels:\n",
        "  if label=='Fake' or label=='fake':\n",
        "    tensorlabel.append(torch.ones(1))\n",
        "  elif label=='TRUE':\n",
        "    tensorlabel.append(torch.zeros(1))\n",
        "  else:\n",
        "    print(label,'n')\n",
        "    tensorlabel.append(-1)\n",
        "tensortitles=stack(titles)\n",
        "def greatest_len(x):\n",
        "  great=len(x[0])\n",
        "  for i in x:\n",
        "    if len(i)>great:\n",
        "      great=i\n",
        "    return great\n",
        "def pad_to(x,length):\n",
        "  return torch.nn.functional.pad(x,(0,length-len(x)))\n",
        "def clean(thing,length):\n",
        "  new=[]\n",
        "  for sentence in thing:\n",
        "    new.append(pad_to(sentence,length))\n",
        "  return new"
      ],
      "execution_count": null,
      "outputs": [
        {
          "output_type": "stream",
          "text": [
            "nan n\n",
            "nan n\n",
            "nan n\n",
            "nan n\n",
            "nan n\n"
          ],
          "name": "stdout"
        }
      ]
    },
    {
      "cell_type": "code",
      "metadata": {
        "id": "RVSeDSVxwppf",
        "outputId": "973c97f0-1c2f-41f0-eb99-388077430915",
        "colab": {
          "base_uri": "https://localhost:8080/",
          "height": 104
        }
      },
      "source": [
        "titlemax=150\n",
        "textmax=400\n",
        "ptext=clean(tensortext,textmax)\n",
        "ptitle=clean(tensortitles,titlemax)\n",
        "len(ptitle),len(ptext),len(tensorlabel)\n",
        "all_data=[]\n",
        "for j in range(len(ptitle)):\n",
        "  if tensorlabel[j]<0:\n",
        "    print(tensorlabel[j])\n",
        "    pass\n",
        "  elif sum(ptext).sum().data==0 and sum(ptitle).sum().data==0:\n",
        "    pass \n",
        "  else:\n",
        "    all_data.append((ptitle[j],ptext[j],tensorlabel[j]))\n"
      ],
      "execution_count": null,
      "outputs": [
        {
          "output_type": "stream",
          "text": [
            "-1\n",
            "-1\n",
            "-1\n",
            "-1\n",
            "-1\n"
          ],
          "name": "stdout"
        }
      ]
    },
    {
      "cell_type": "code",
      "metadata": {
        "id": "R7lKNrg0GDft",
        "outputId": "b90b9517-36fc-466e-bbba-b81bc14cf88a",
        "colab": {
          "base_uri": "https://localhost:8080/",
          "height": 52
        }
      },
      "source": [
        "first=torch.tensor([])\n",
        "torch.cat((first,torch.tensor([[1,2,3]]),torch.tensor([[1,2,3]])))"
      ],
      "execution_count": null,
      "outputs": [
        {
          "output_type": "execute_result",
          "data": {
            "text/plain": [
              "tensor([[1., 2., 3.],\n",
              "        [1., 2., 3.]])"
            ]
          },
          "metadata": {
            "tags": []
          },
          "execution_count": 41
        }
      ]
    },
    {
      "cell_type": "code",
      "metadata": {
        "id": "aHMXYd2ZMex8"
      },
      "source": [
        "def batcher(x,batch):\n",
        "  count=batch\n",
        "  batchet=[]\n",
        "  batchd=[]\n",
        "  for i in range(0,len(x),batch):\n",
        "    tempd=[]\n",
        "    tempt=[]\n",
        "    for j in range(batch):\n",
        "      data,target=x[i+j]\n",
        "      tempt.append(target)\n",
        "      tempd.append(data)\n",
        "    batchet.append(tempt)\n",
        "    batchd.append(tempd)\n",
        "    count+=batch\n",
        "  return batches\n",
        "def val(data,tmodel):\n",
        "  tmodel.eval()\n",
        "  scores=[]\n",
        "  with torch.no_grad():\n",
        "    for i,j in data:\n",
        "      scores.append([tmodel(i,torch.randn(1,1,100)),j])\n",
        "  correct=0\n",
        "  for i in scores:\n",
        "    if torch.round(i[0])==i[1]:\n",
        "      correct+=1\n",
        "  tmodel.train()\n",
        "  return correct/len(scores)\n",
        "\n",
        "def score(scores):\n",
        "  correct=0\n",
        "  for i in scores:\n",
        "    if torch.round(i[0])==i[1]:\n",
        "      correct+=1\n",
        "  return correct/len(scores)\n",
        "\n",
        "train_data=all_data[264:]\n",
        "val_data=all_data[:264]"
      ],
      "execution_count": null,
      "outputs": []
    },
    {
      "cell_type": "code",
      "metadata": {
        "id": "toN-i3morGQk",
        "outputId": "5703ca7e-03fd-4ce1-e151-a6a5491d0e9f",
        "colab": {
          "base_uri": "https://localhost:8080/",
          "height": 121
        }
      },
      "source": [
        "linearmodel.eval()\n",
        "count=0\n",
        "with torch.no_grad():\n",
        "  for i1,i2,j in val_data:\n",
        "    i=torch.cat((i1,i2))\n",
        "    if torch.round(linearmodel(i))==j:\n",
        "      count+=1\n",
        "print(count/len(val_data))\n",
        "linearmodel.train()"
      ],
      "execution_count": null,
      "outputs": [
        {
          "output_type": "stream",
          "text": [
            "0.7159090909090909\n"
          ],
          "name": "stdout"
        },
        {
          "output_type": "execute_result",
          "data": {
            "text/plain": [
              "Linearclassifier(\n",
              "  (embed): EmbeddingBag(54, 10, mode=mean)\n",
              "  (fc1): Linear(in_features=10, out_features=1, bias=True)\n",
              "  (fc2): Linear(in_features=550, out_features=1, bias=True)\n",
              ")"
            ]
          },
          "metadata": {
            "tags": []
          },
          "execution_count": 21
        }
      ]
    },
    {
      "cell_type": "code",
      "metadata": {
        "id": "_Ch-gGt-eGTt"
      },
      "source": [
        "class Linearclassifier(nn.Module):\n",
        "  def __init__(self,embed_dim=10,seq=550,out=1):\n",
        "    super().__init__()\n",
        "    self.embed=nn.EmbeddingBag(len(vocab)+1,embed_dim)\n",
        "    self.fc1=nn.Linear(embed_dim,out)\n",
        "    self.fc2=nn.Linear(seq,out)\n",
        "  def forward(self,x):\n",
        "    xe=self.embed(x.long(),torch.LongTensor([0,550]))\n",
        "    x1=torch.sigmoid(self.fc1(xe))\n",
        "    #x2=torch.sigmoid(self.fc2(x1))\n",
        "    return torch.mean(x1)\n",
        "\n",
        "linearmodel=Linearclassifier()\n",
        "lossflinear=torch.nn.BCELoss()\n",
        "optim_linear=torch.optim.Adam(linearmodel.parameters(),lr=0.01)\n",
        "def train2():\n",
        "  for epoch in range(200):\n",
        "    counter=pbar(1,len(train_data),True)\n",
        "    for data1,data2,target in train_data:\n",
        "      data=torch.cat((data1,data2))\n",
        "      counter.frac()\n",
        "      pred=linearmodel(data)\n",
        "      loss=lossflinear(pred.reshape(-1),target)\n",
        "      linearmodel.zero_grad()\n",
        "      optim_linear.zero_grad()\n",
        "      loss.backward()\n",
        "      optim_linear.step()\n",
        "    if epoch%10==0:\n",
        "      linearmodel.eval()\n",
        "      count=0\n",
        "      with torch.no_grad():\n",
        "        for i1,i2,j in val_data:\n",
        "          i=torch.cat((i1,i2))\n",
        "          if torch.round(linearmodel(i))==j:\n",
        "            count+=1\n",
        "      print(count/len(val_data))\n",
        "      linearmodel.train()\n",
        "      print(loss)\n",
        "train2()"
      ],
      "execution_count": null,
      "outputs": []
    },
    {
      "cell_type": "code",
      "metadata": {
        "id": "lZkAwoFqgLWz"
      },
      "source": [
        "class Classifiergru(nn.Module):\n",
        "  def __init__(self,mid=100,seq=550,out=1,embed_dim=10):\n",
        "    super().__init__()\n",
        "    self.seq=seq\n",
        "    self.embed_dim=embed_dim\n",
        "    self.embed=nn.Embedding(len(vocab)+1,embed_dim)\n",
        "    self.gru=nn.GRU(embed_dim,mid)\n",
        "    self.fc=nn.Linear(mid,out)\n",
        "  def forward(self,x,hidden):\n",
        "    x=self.embed(x.long()).float().reshape(self.seq,1,-1)\n",
        "    gruout,hidden=self.gru(x,hidden)\n",
        "    return torch.sigmoid(self.fc(nn.functional.relu(hidden)))\n",
        "model=Classifiergru()\n",
        "lossf=torch.nn.BCELoss()\n",
        "optimizer=torch.optim.Adam(model.parameters(),0.01)\n",
        "def train1():\n",
        "  for epoch in range(7):\n",
        "    bar=pbar(1,len(train_data),True)\n",
        "    for data1,data2,target in train_data:\n",
        "      data=torch.cat((data1,data2))\n",
        "      bar.frac()\n",
        "      hidden=torch.randn(1,1,100)\n",
        "      pred=model(data,hidden)\n",
        "      try:\n",
        "        loss=lossf(pred.reshape(-1),target.float())\n",
        "      except:\n",
        "        print(pred.reshape(-1))\n",
        "        print(data)\n",
        "      model.zero_grad()\n",
        "      optimizer.zero_grad()\n",
        "      loss.backward()\n",
        "      optimizer.step()\n",
        "    print(val(val_data,model))\n",
        "    print(loss)\n",
        "train1()"
      ],
      "execution_count": null,
      "outputs": []
    },
    {
      "cell_type": "code",
      "metadata": {
        "id": "6js1g0UQxU2d"
      },
      "source": [
        "class Grudiscrete(nn.Module):\n",
        "  def __init__(self, embed_dim=10,hidden_s=200,seq1=400,seq2=150):\n",
        "    super().__init__()\n",
        "    self.gru1=nn.GRU(embed_dim,hidden_s)\n",
        "    self.gru2=nn.GRU(embed_dim,hidden_s)\n",
        "    self.embed=nn.Embedding(len(vocab)+1,embed_dim)\n",
        "    self.fc1=nn.Linear(hidden_s,1)\n",
        "    self.fc2=nn.Linear(hidden_s,1)\n",
        "    self.fc3=nn.Linear(2,1)\n",
        "    self.seq1=seq1\n",
        "    self.seq2=seq2\n",
        "    self.hidden_s=hidden_s\n",
        "  def forward(self,x,x1,hidden):\n",
        "    embedded1=self.embed(x.long()).reshape(self.seq1,1,-1)\n",
        "    embedded2=self.embed(x1.long()).reshape(self.seq2,1,-1)\n",
        "    encode1,h1=self.gru1(embedded1,hidden)\n",
        "    encode2,h2=self.gru2(embedded2,hidden)\n",
        "    out1=nn.functional.relu(self.fc1(h1))\n",
        "    out2=nn.functional.relu(self.fc2(h2))\n",
        "    return torch.sigmoid(self.fc3(torch.cat((out1,out2),dim=2)))\n",
        "\n",
        "\n",
        "def train3():\n",
        "  model_both=Grudiscrete()\n",
        "  loss_func=nn.BCELoss()\n",
        "  optimizer=torch.optim.Adam(model_both.parameters())\n",
        "  for i in range(50):\n",
        "    bar=pbar(1,len(train_data),True)\n",
        "    for title,text,target in train_data:\n",
        "      title=title.reshape(150,-1)\n",
        "      text=text.reshape(400,-1)\n",
        "      pred=model_both(text,title,torch.zeros(1,1,200))\n",
        "      loss=loss_func(pred.reshape(-1),target)\n",
        "      model_both.zero_grad()\n",
        "      optimizer.zero_grad()\n",
        "      loss.backward()\n",
        "      optimizer.step()\n",
        "      bar.frac()\n",
        "    model_both.eval()\n",
        "    count=0\n",
        "    with torch.no_grad():\n",
        "      for test_title,test_text,test_target in val_data:\n",
        "        title=title.reshape(150,-1)\n",
        "        text=text.reshape(400,-1)\n",
        "        prediction=model_both(test_text,test_title,torch.zeros(1,1,200))\n",
        "        print(prediction.reshape(-1),test_target)\n",
        "        if torch.round(prediction.reshape(-1))==target:\n",
        "          count+=1\n",
        "    model_both.train()\n",
        "    print(count/len(val_data))\n",
        "    print(loss)\n",
        "train3()\n"
      ],
      "execution_count": null,
      "outputs": []
    },
    {
      "cell_type": "code",
      "metadata": {
        "id": "4GnZdbElur3K",
        "outputId": "a1dfb352-f42c-480c-9ee7-f85cd1d61542",
        "colab": {
          "base_uri": "https://localhost:8080/",
          "height": 52
        }
      },
      "source": [
        "import torch\n",
        "import torch.nn as nn\n",
        "gru2=nn.GRU(2,3,2)\n",
        "input2=torch.ones(1,1,2)\n",
        "h_2=torch.ones(2,1,3)\n",
        "out2,h2=gru2(input2,h_2)\n",
        "print(h2.shape)\n",
        "gru1=nn.GRU(2,3)\n",
        "input1=torch.ones(1,1,2)\n",
        "h_1=torch.ones(1,1,3)\n",
        "out1,h1=gru1(input1,h_1)\n",
        "print(h1.shape)"
      ],
      "execution_count": null,
      "outputs": [
        {
          "output_type": "stream",
          "text": [
            "torch.Size([2, 1, 3])\n",
            "torch.Size([1, 1, 3])\n"
          ],
          "name": "stdout"
        }
      ]
    },
    {
      "cell_type": "code",
      "metadata": {
        "id": "DciTUVeb6i5W"
      },
      "source": [
        "import sys as s\n",
        "import time\n",
        "import math\n",
        "def p(thing):\n",
        "  s.stdout.write(thing)\n",
        "class pbar:\n",
        "  def __init__(self,length,total,frac=False):\n",
        "    self.length=length\n",
        "    self.total=total\n",
        "    if not frac:\n",
        "      p('|'+'.'*length+'|')\n",
        "    else:\n",
        "      pass\n",
        "    self.count=0\n",
        "    self.thresh=total//length\n",
        "    self.all_count=0\n",
        "    self.n=0\n",
        "  def step(self):\n",
        "    self.count+=1\n",
        "    if self.all_count==self.length/self.thresh:\n",
        "      p(p('|'+'-'*length+'|'))\n",
        "    if self.count==self.thresh:\n",
        "      self.count=0\n",
        "      p('\\b'*(length+2))\n",
        "      p('|'+'-'*(self.length-self.all)+'.'*length+'|')\n",
        "      self.all_count+=1\n",
        "  def frac(self):\n",
        "    if self.n==self.total-1:\n",
        "      p('\\n')\n",
        "      return\n",
        "    if self.n>0:\n",
        "      p('\\b'*self.len)\n",
        "    string=f'{self.n}/{self.total}'\n",
        "    p(string)\n",
        "    self.len=len(string)\n",
        "    self.n+=1\n",
        "    "
      ],
      "execution_count": null,
      "outputs": []
    },
    {
      "cell_type": "code",
      "metadata": {
        "id": "KGt5RK78Fls4",
        "outputId": "dd2a4e52-4314-4e24-e935-6591896af72e",
        "colab": {
          "base_uri": "https://localhost:8080/",
          "height": 131
        }
      },
      "source": [
        "class Stackcell(nn.Module):\n",
        "  def __init__(self,in_size,mid,out,bias1,bias2):\n",
        "    self.gru1=nn.GRUCell(in_size,mid,bias=bias1)\n",
        "    self.gru2=nn.GRUCell(in_size,mid,bias=bias2)\n",
        "    self.fc=nn.Linear(mid,out)\n",
        "  def forward(self,x,hidden1,hidden2,x2):\n",
        "    h1=self.gru1(x,hidden1)\n",
        "    h2=self.gru2(x2,hidden2)\n",
        "    return self.fc(torch.cat((h1,h2)))\n",
        "    \n",
        "class Stack(nn.Module):\n",
        "  def __init__(self,in_size,mid,out):\n",
        "    super().__init__()\n"
      ],
      "execution_count": null,
      "outputs": [
        {
          "output_type": "error",
          "ename": "SyntaxError",
          "evalue": "ignored",
          "traceback": [
            "\u001b[0;36m  File \u001b[0;32m\"<ipython-input-49-02a23759dbdb>\"\u001b[0;36m, line \u001b[0;32m12\u001b[0m\n\u001b[0;31m    class Stack(nn.Module):\u001b[0m\n\u001b[0m                           ^\u001b[0m\n\u001b[0;31mSyntaxError\u001b[0m\u001b[0;31m:\u001b[0m unexpected EOF while parsing\n"
          ]
        }
      ]
    },
    {
      "cell_type": "code",
      "metadata": {
        "id": "fEoGGyI_fbCi",
        "outputId": "c0592643-5cad-4c12-97ca-9fbe55e22656",
        "colab": {
          "base_uri": "https://localhost:8080/",
          "height": 35
        }
      },
      "source": [
        "torch.sigmoid(torch.tensor([1.],requires_grad=True))"
      ],
      "execution_count": null,
      "outputs": [
        {
          "output_type": "execute_result",
          "data": {
            "text/plain": [
              "tensor([0.7311], grad_fn=<SigmoidBackward>)"
            ]
          },
          "metadata": {
            "tags": []
          },
          "execution_count": 16
        }
      ]
    },
    {
      "cell_type": "code",
      "metadata": {
        "id": "zuWywKMldowM"
      },
      "source": [
        "a=[torch.tensor([i for i in range(10)]) for k in range(10)]"
      ],
      "execution_count": null,
      "outputs": []
    },
    {
      "cell_type": "code",
      "metadata": {
        "id": "UlWJzAn_eaUX",
        "outputId": "ea242633-cf48-4fb6-d431-e2721a04ae96",
        "colab": {
          "base_uri": "https://localhost:8080/",
          "height": 69
        }
      },
      "source": [
        "embedbag=nn.EmbeddingBag(3,2,mode='sum')\n",
        "embedbag(torch.ones(3,2).long(),None)"
      ],
      "execution_count": null,
      "outputs": [
        {
          "output_type": "execute_result",
          "data": {
            "text/plain": [
              "tensor([[ 0.6240, -2.3776],\n",
              "        [ 0.6240, -2.3776],\n",
              "        [ 0.6240, -2.3776]], grad_fn=<EmbeddingBagBackward>)"
            ]
          },
          "metadata": {
            "tags": []
          },
          "execution_count": 19
        }
      ]
    },
    {
      "cell_type": "code",
      "metadata": {
        "id": "rPSVvMXgehHN",
        "outputId": "46f50699-b093-4eab-ddcf-59d4373c71bf",
        "colab": {
          "base_uri": "https://localhost:8080/",
          "height": 52
        }
      },
      "source": [
        "zeros=torch.zeros(2,3)\n",
        "ones=torch.ones(2,3)\n",
        "torch.cat((zeros,ones),dim=1)"
      ],
      "execution_count": null,
      "outputs": [
        {
          "output_type": "execute_result",
          "data": {
            "text/plain": [
              "tensor([[0., 0., 0., 1., 1., 1.],\n",
              "        [0., 0., 0., 1., 1., 1.]])"
            ]
          },
          "metadata": {
            "tags": []
          },
          "execution_count": 48
        }
      ]
    },
    {
      "cell_type": "code",
      "metadata": {
        "id": "LBosfC5mMNne",
        "outputId": "52794617-630f-4152-8b3e-81faf47c278a",
        "colab": {
          "base_uri": "https://localhost:8080/",
          "height": 35
        }
      },
      "source": [
        "torch.cat((torch.ones(1,1),torch.ones(1,1)),dim=1)"
      ],
      "execution_count": null,
      "outputs": [
        {
          "output_type": "execute_result",
          "data": {
            "text/plain": [
              "tensor([[1., 1.]])"
            ]
          },
          "metadata": {
            "tags": []
          },
          "execution_count": 25
        }
      ]
    },
    {
      "cell_type": "code",
      "metadata": {
        "id": "c8ToLLucXYMP",
        "outputId": "cc07b1f4-2e44-41c6-f965-c1af5c65dbab",
        "colab": {
          "base_uri": "https://localhost:8080/",
          "height": 200
        }
      },
      "source": [
        "template=torch.randn(5)\n",
        "template[0]=torch.randn(2,3)"
      ],
      "execution_count": null,
      "outputs": [
        {
          "output_type": "error",
          "ename": "RuntimeError",
          "evalue": "ignored",
          "traceback": [
            "\u001b[0;31m---------------------------------------------------------------------------\u001b[0m",
            "\u001b[0;31mRuntimeError\u001b[0m                              Traceback (most recent call last)",
            "\u001b[0;32m<ipython-input-31-33b0fa096bce>\u001b[0m in \u001b[0;36m<module>\u001b[0;34m()\u001b[0m\n\u001b[1;32m      1\u001b[0m \u001b[0mtemplate\u001b[0m\u001b[0;34m=\u001b[0m\u001b[0mtorch\u001b[0m\u001b[0;34m.\u001b[0m\u001b[0mrandn\u001b[0m\u001b[0;34m(\u001b[0m\u001b[0;36m5\u001b[0m\u001b[0;34m)\u001b[0m\u001b[0;34m\u001b[0m\u001b[0;34m\u001b[0m\u001b[0m\n\u001b[0;32m----> 2\u001b[0;31m \u001b[0mtemplate\u001b[0m\u001b[0;34m[\u001b[0m\u001b[0;36m0\u001b[0m\u001b[0;34m]\u001b[0m\u001b[0;34m=\u001b[0m\u001b[0mtorch\u001b[0m\u001b[0;34m.\u001b[0m\u001b[0mrandn\u001b[0m\u001b[0;34m(\u001b[0m\u001b[0;36m2\u001b[0m\u001b[0;34m,\u001b[0m\u001b[0;36m3\u001b[0m\u001b[0;34m)\u001b[0m\u001b[0;34m\u001b[0m\u001b[0;34m\u001b[0m\u001b[0m\n\u001b[0m",
            "\u001b[0;31mRuntimeError\u001b[0m: expand(torch.FloatTensor{[2, 3]}, size=[]): the number of sizes provided (0) must be greater or equal to the number of dimensions in the tensor (2)"
          ]
        }
      ]
    },
    {
      "cell_type": "code",
      "metadata": {
        "id": "EN3gJQNqXirT",
        "outputId": "de662776-a8ab-4989-eac5-7793ff785a36",
        "colab": {
          "base_uri": "https://localhost:8080/",
          "height": 104
        }
      },
      "source": [
        "a=torch.cat((torch.tensor([]),torch.randn(2,3)))\n",
        "torch.cat((a,torch.ones(2,3))).reshape(2,2,3)"
      ],
      "execution_count": null,
      "outputs": [
        {
          "output_type": "execute_result",
          "data": {
            "text/plain": [
              "tensor([[[ 0.3971,  0.5770, -0.2544],\n",
              "         [-2.2514,  1.1398,  0.3002]],\n",
              "\n",
              "        [[ 1.0000,  1.0000,  1.0000],\n",
              "         [ 1.0000,  1.0000,  1.0000]]])"
            ]
          },
          "metadata": {
            "tags": []
          },
          "execution_count": 36
        }
      ]
    },
    {
      "cell_type": "code",
      "metadata": {
        "id": "2s5D294OXr44",
        "outputId": "cd1a1694-6bd6-48e4-c886-a021e428faf2",
        "colab": {
          "base_uri": "https://localhost:8080/",
          "height": 35
        }
      },
      "source": [
        "a=torch.zeros(1,3)\n",
        "b=torch.ones(1,3)\n",
        "torch.cat((a,b),dim=1),torch.cat((a,b),dim=1).shape"
      ],
      "execution_count": null,
      "outputs": [
        {
          "output_type": "execute_result",
          "data": {
            "text/plain": [
              "(tensor([[0., 0., 0., 1., 1., 1.]]), torch.Size([1, 6]))"
            ]
          },
          "metadata": {
            "tags": []
          },
          "execution_count": 15
        }
      ]
    },
    {
      "cell_type": "code",
      "metadata": {
        "id": "Fnl_NTndYQae",
        "outputId": "00f5a4e3-9c82-420e-9813-c023b915fac8",
        "colab": {
          "base_uri": "https://localhost:8080/",
          "height": 165
        }
      },
      "source": [
        "torch.tensor([])[1]"
      ],
      "execution_count": null,
      "outputs": [
        {
          "output_type": "error",
          "ename": "IndexError",
          "evalue": "ignored",
          "traceback": [
            "\u001b[0;31m---------------------------------------------------------------------------\u001b[0m",
            "\u001b[0;31mIndexError\u001b[0m                                Traceback (most recent call last)",
            "\u001b[0;32m<ipython-input-35-58158997d5a2>\u001b[0m in \u001b[0;36m<module>\u001b[0;34m()\u001b[0m\n\u001b[0;32m----> 1\u001b[0;31m \u001b[0mtorch\u001b[0m\u001b[0;34m.\u001b[0m\u001b[0mtensor\u001b[0m\u001b[0;34m(\u001b[0m\u001b[0;34m[\u001b[0m\u001b[0;34m]\u001b[0m\u001b[0;34m)\u001b[0m\u001b[0;34m[\u001b[0m\u001b[0;36m1\u001b[0m\u001b[0;34m]\u001b[0m\u001b[0;34m\u001b[0m\u001b[0;34m\u001b[0m\u001b[0m\n\u001b[0m",
            "\u001b[0;31mIndexError\u001b[0m: index 1 is out of bounds for dimension 0 with size 0"
          ]
        }
      ]
    },
    {
      "cell_type": "code",
      "metadata": {
        "id": "4Y93plG5j87C",
        "outputId": "bd714c2b-f742-4877-c6d8-dda2dd4741aa",
        "colab": {
          "base_uri": "https://localhost:8080/",
          "height": 35
        }
      },
      "source": [
        "x=torch.randn(5,10)\n",
        "torch.nn.functional.softmax(x,dim=1)[0].sum()\n"
      ],
      "execution_count": null,
      "outputs": [
        {
          "output_type": "execute_result",
          "data": {
            "text/plain": [
              "tensor(1.)"
            ]
          },
          "metadata": {
            "tags": []
          },
          "execution_count": 62
        }
      ]
    },
    {
      "cell_type": "code",
      "metadata": {
        "id": "mHRE8WqsnQOi",
        "outputId": "b53e6cb7-8ccd-4c24-b1a7-2e0f8c953dab",
        "colab": {
          "base_uri": "https://localhost:8080/",
          "height": 35
        }
      },
      "source": [
        "tes=torch.ones(5,2)\n",
        "tes.sum()"
      ],
      "execution_count": null,
      "outputs": [
        {
          "output_type": "execute_result",
          "data": {
            "text/plain": [
              "tensor(10.)"
            ]
          },
          "metadata": {
            "tags": []
          },
          "execution_count": 51
        }
      ]
    },
    {
      "cell_type": "code",
      "metadata": {
        "id": "Fkp_cL1zoFey",
        "outputId": "396d6522-4095-4118-87b3-6bac2c63b4c4",
        "colab": {
          "base_uri": "https://localhost:8080/",
          "height": 553
        }
      },
      "source": [
        "a=torch.ones(400)\n",
        "b=torch.zeros(150)\n",
        "torch.cat((a,b))"
      ],
      "execution_count": null,
      "outputs": [
        {
          "output_type": "execute_result",
          "data": {
            "text/plain": [
              "tensor([1., 1., 1., 1., 1., 1., 1., 1., 1., 1., 1., 1., 1., 1., 1., 1., 1., 1.,\n",
              "        1., 1., 1., 1., 1., 1., 1., 1., 1., 1., 1., 1., 1., 1., 1., 1., 1., 1.,\n",
              "        1., 1., 1., 1., 1., 1., 1., 1., 1., 1., 1., 1., 1., 1., 1., 1., 1., 1.,\n",
              "        1., 1., 1., 1., 1., 1., 1., 1., 1., 1., 1., 1., 1., 1., 1., 1., 1., 1.,\n",
              "        1., 1., 1., 1., 1., 1., 1., 1., 1., 1., 1., 1., 1., 1., 1., 1., 1., 1.,\n",
              "        1., 1., 1., 1., 1., 1., 1., 1., 1., 1., 1., 1., 1., 1., 1., 1., 1., 1.,\n",
              "        1., 1., 1., 1., 1., 1., 1., 1., 1., 1., 1., 1., 1., 1., 1., 1., 1., 1.,\n",
              "        1., 1., 1., 1., 1., 1., 1., 1., 1., 1., 1., 1., 1., 1., 1., 1., 1., 1.,\n",
              "        1., 1., 1., 1., 1., 1., 1., 1., 1., 1., 1., 1., 1., 1., 1., 1., 1., 1.,\n",
              "        1., 1., 1., 1., 1., 1., 1., 1., 1., 1., 1., 1., 1., 1., 1., 1., 1., 1.,\n",
              "        1., 1., 1., 1., 1., 1., 1., 1., 1., 1., 1., 1., 1., 1., 1., 1., 1., 1.,\n",
              "        1., 1., 1., 1., 1., 1., 1., 1., 1., 1., 1., 1., 1., 1., 1., 1., 1., 1.,\n",
              "        1., 1., 1., 1., 1., 1., 1., 1., 1., 1., 1., 1., 1., 1., 1., 1., 1., 1.,\n",
              "        1., 1., 1., 1., 1., 1., 1., 1., 1., 1., 1., 1., 1., 1., 1., 1., 1., 1.,\n",
              "        1., 1., 1., 1., 1., 1., 1., 1., 1., 1., 1., 1., 1., 1., 1., 1., 1., 1.,\n",
              "        1., 1., 1., 1., 1., 1., 1., 1., 1., 1., 1., 1., 1., 1., 1., 1., 1., 1.,\n",
              "        1., 1., 1., 1., 1., 1., 1., 1., 1., 1., 1., 1., 1., 1., 1., 1., 1., 1.,\n",
              "        1., 1., 1., 1., 1., 1., 1., 1., 1., 1., 1., 1., 1., 1., 1., 1., 1., 1.,\n",
              "        1., 1., 1., 1., 1., 1., 1., 1., 1., 1., 1., 1., 1., 1., 1., 1., 1., 1.,\n",
              "        1., 1., 1., 1., 1., 1., 1., 1., 1., 1., 1., 1., 1., 1., 1., 1., 1., 1.,\n",
              "        1., 1., 1., 1., 1., 1., 1., 1., 1., 1., 1., 1., 1., 1., 1., 1., 1., 1.,\n",
              "        1., 1., 1., 1., 1., 1., 1., 1., 1., 1., 1., 1., 1., 1., 1., 1., 1., 1.,\n",
              "        1., 1., 1., 1., 0., 0., 0., 0., 0., 0., 0., 0., 0., 0., 0., 0., 0., 0.,\n",
              "        0., 0., 0., 0., 0., 0., 0., 0., 0., 0., 0., 0., 0., 0., 0., 0., 0., 0.,\n",
              "        0., 0., 0., 0., 0., 0., 0., 0., 0., 0., 0., 0., 0., 0., 0., 0., 0., 0.,\n",
              "        0., 0., 0., 0., 0., 0., 0., 0., 0., 0., 0., 0., 0., 0., 0., 0., 0., 0.,\n",
              "        0., 0., 0., 0., 0., 0., 0., 0., 0., 0., 0., 0., 0., 0., 0., 0., 0., 0.,\n",
              "        0., 0., 0., 0., 0., 0., 0., 0., 0., 0., 0., 0., 0., 0., 0., 0., 0., 0.,\n",
              "        0., 0., 0., 0., 0., 0., 0., 0., 0., 0., 0., 0., 0., 0., 0., 0., 0., 0.,\n",
              "        0., 0., 0., 0., 0., 0., 0., 0., 0., 0., 0., 0., 0., 0., 0., 0., 0., 0.,\n",
              "        0., 0., 0., 0., 0., 0., 0., 0., 0., 0.])"
            ]
          },
          "metadata": {
            "tags": []
          },
          "execution_count": 53
        }
      ]
    },
    {
      "cell_type": "code",
      "metadata": {
        "id": "mL_zD5Kwovx9",
        "outputId": "c9d17d33-5108-4ee2-a72d-570e4eee750d",
        "colab": {
          "base_uri": "https://localhost:8080/",
          "height": 35
        }
      },
      "source": [
        "torch.tensor([[1,2,3,4]]).sum()"
      ],
      "execution_count": null,
      "outputs": [
        {
          "output_type": "execute_result",
          "data": {
            "text/plain": [
              "tensor(10)"
            ]
          },
          "metadata": {
            "tags": []
          },
          "execution_count": 54
        }
      ]
    },
    {
      "cell_type": "code",
      "metadata": {
        "id": "p4TATyTX1MqR",
        "outputId": "285be2e7-9d53-4ade-a2a6-e3791a30633d",
        "colab": {
          "base_uri": "https://localhost:8080/",
          "height": 35
        }
      },
      "source": [
        "torch.ones(550,100).sum(dim=0).shape"
      ],
      "execution_count": null,
      "outputs": [
        {
          "output_type": "execute_result",
          "data": {
            "text/plain": [
              "torch.Size([100])"
            ]
          },
          "metadata": {
            "tags": []
          },
          "execution_count": 59
        }
      ]
    },
    {
      "cell_type": "code",
      "metadata": {
        "id": "nzp5YCNe2ill",
        "outputId": "5d1a0e8f-048f-4268-e99c-74782dd6ce41",
        "colab": {
          "base_uri": "https://localhost:8080/",
          "height": 35
        }
      },
      "source": [
        "if torch.zeros(550,404).sum()==0:\n",
        "  print('fgsyf')"
      ],
      "execution_count": null,
      "outputs": [
        {
          "output_type": "stream",
          "text": [
            "fgsyf\n"
          ],
          "name": "stdout"
        }
      ]
    },
    {
      "cell_type": "code",
      "metadata": {
        "id": "OtjxBK8oLJ_q"
      },
      "source": [
        ""
      ],
      "execution_count": null,
      "outputs": []
    }
  ]
}